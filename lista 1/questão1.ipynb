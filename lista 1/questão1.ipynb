{
 "cells": [
  {
   "cell_type": "code",
   "execution_count": 2,
   "id": "e5a2e9bc",
   "metadata": {},
   "outputs": [
    {
     "name": "stdout",
     "output_type": "stream",
     "text": [
      "Informe o n: 5\n",
      "\n",
      "Somatório: 0.4545455\n",
      "Fórmula: 0.4545455\n",
      "\n",
      "O tempo necessário com os laços foi: 0.0010011\n",
      "O tempo necessário com a fórmula foi: 0.0000000\n",
      "\n",
      "Fórmula válida para o valor: 5\n",
      "Fórmula válida para o valor: 5\n"
     ]
    }
   ],
   "source": [
    "import time\n",
    "\n",
    "n = int(input('Informe o n: '))\n",
    "\n",
    "print('')\n",
    "\n",
    "#------------------------------------#\n",
    "\n",
    "somatorio = 0\n",
    "\n",
    "inicio = time.time()\n",
    "\n",
    "for i in range(0, n):\n",
    "    somatorio += ( 1 / (((2*(i+1))-1)*((2*(i+1))+1)) )\n",
    "\n",
    "fim = time.time()\n",
    "\n",
    "somatorio = round(somatorio, 7) #Arredondando o valor da fórmula para 7 casas decimais\n",
    "\n",
    "#------------------------------------#\n",
    "\n",
    "inicio_formula = time.time()\n",
    "\n",
    "somatorio_formula = n / ((2*n)+1)\n",
    "\n",
    "fim_formula = time.time()\n",
    "\n",
    "somatorio_formula = round(somatorio_formula, 7) #Arredondando o valor da fórmula para 7 casas decimais\n",
    "\n",
    "print('Somatório: {}'.format(somatorio))\n",
    "\n",
    "print('Fórmula: {}\\n'.format(somatorio_formula))\n",
    "\n",
    "print('O tempo necessário com os laços foi: {:.7f}'.format(fim - inicio))\n",
    "\n",
    "print('O tempo necessário com a fórmula foi: {:.7f}\\n'.format(fim_formula - inicio_formula))\n",
    "\n",
    "print('Fórmula válida para o valor: {}'.format(n))\n",
    "\n",
    "if somatorio == somatorio_formula:\n",
    "    print('Fórmula válida para o valor: {}'.format(n))\n",
    "\n",
    "else:\n",
    "    print('Fórmula inválida para o valor: {}'.format(n))"
   ]
  },
  {
   "cell_type": "code",
   "execution_count": null,
   "id": "39b41911",
   "metadata": {},
   "outputs": [],
   "source": []
  }
 ],
 "metadata": {
  "kernelspec": {
   "display_name": "Python 3 (ipykernel)",
   "language": "python",
   "name": "python3"
  },
  "language_info": {
   "codemirror_mode": {
    "name": "ipython",
    "version": 3
   },
   "file_extension": ".py",
   "mimetype": "text/x-python",
   "name": "python",
   "nbconvert_exporter": "python",
   "pygments_lexer": "ipython3",
   "version": "3.9.12"
  }
 },
 "nbformat": 4,
 "nbformat_minor": 5
}
