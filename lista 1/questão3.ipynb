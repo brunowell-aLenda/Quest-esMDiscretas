{
 "cells": [
  {
   "cell_type": "code",
   "execution_count": 1,
   "id": "76593d12",
   "metadata": {},
   "outputs": [
    {
     "name": "stdout",
     "output_type": "stream",
     "text": [
      "digite o valor inicial de n: 5\n",
      "o tempo da primeira equacao eh 0.0000000\n",
      "o valor da primeira equacao eh: 0.2380952\n",
      "\n",
      "o tempo da segunda formula eh 0.0000000\n",
      "o valor da segunda formula eh 0.2380952\n",
      "\n",
      "O valor da expressão é verdadeiro para n igual a:  5\n"
     ]
    }
   ],
   "source": [
    "import time\n",
    "\n",
    "n=int(input('digite o valor inicial de n: '))\n",
    "\n",
    "soma=0\n",
    "\n",
    "inicio = time.time()\n",
    "\n",
    "for i in range(0,n): #somatorio\n",
    "    soma += (1 / ((i+1) * ((i+1) + 1) * ((i+1) + 2)))\n",
    "\n",
    "fim = time.time()\n",
    "soma = round(soma, 7)\n",
    "\n",
    "print(\"o tempo da primeira equacao eh {:.7f}\".format(fim - inicio))\n",
    "print(\"o valor da primeira equacao eh:\", soma)\n",
    "print('')\n",
    "\n",
    "inicio = time.time()\n",
    "soma_formula = ((n**2) + 3*n) / (4*(n**2) + 12 * n + 8)\n",
    "fim = time.time()\n",
    "soma_formula = round(soma_formula, 7)\n",
    "\n",
    "print(\"o tempo da segunda formula eh {:.7f}\".format(fim - inicio))\n",
    "print(\"o valor da segunda formula eh\", soma_formula)\n",
    "print('')\n",
    "\n",
    "if (soma == soma_formula):\n",
    "    print(\"O valor da expressão é verdadeiro para n igual a: \", n)\n",
    "else:\n",
    "    print(\"o valor da expressão é falso para n igual a:\", n)"
   ]
  },
  {
   "cell_type": "code",
   "execution_count": null,
   "id": "a8e89bad",
   "metadata": {},
   "outputs": [],
   "source": []
  }
 ],
 "metadata": {
  "kernelspec": {
   "display_name": "Python 3 (ipykernel)",
   "language": "python",
   "name": "python3"
  },
  "language_info": {
   "codemirror_mode": {
    "name": "ipython",
    "version": 3
   },
   "file_extension": ".py",
   "mimetype": "text/x-python",
   "name": "python",
   "nbconvert_exporter": "python",
   "pygments_lexer": "ipython3",
   "version": "3.9.12"
  }
 },
 "nbformat": 4,
 "nbformat_minor": 5
}
