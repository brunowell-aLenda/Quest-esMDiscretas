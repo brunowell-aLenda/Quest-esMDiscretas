{
 "cells": [
  {
   "cell_type": "code",
   "execution_count": 2,
   "id": "f73c9010",
   "metadata": {},
   "outputs": [
    {
     "name": "stdout",
     "output_type": "stream",
     "text": [
      "digite o valor inicial de n: 5\n",
      "Resultado com o laço de repetição: 0.6\n",
      "Tempo necessário: 0.0009995\n",
      "\n",
      "Resultado com a fórfmula: 0.6\n",
      "Tempo necessário: 0.0009997\n",
      "O valor da expressão é verdadeiro para n igual a: 5\n"
     ]
    }
   ],
   "source": [
    "import time\n",
    "\n",
    "def fatorial(num):\n",
    "    if num < 0:\n",
    "        print('O valor não pode ser negativo')\n",
    "    \n",
    "    elif num == 0:\n",
    "        return 1\n",
    "    \n",
    "    else:\n",
    "        fact = 1\n",
    "        while(num > 1):\n",
    "            fact *= num\n",
    "            num -= 1\n",
    "        return fact\n",
    "\n",
    "n=int(input('digite o valor inicial de n: '))\n",
    "\n",
    "inicio_laco = time.time()\n",
    "\n",
    "produto = 1\n",
    "\n",
    "for i in range(1, n):\n",
    "    produto *= (1 - (1/((i+1)**2)))\n",
    "\n",
    "fim_laco = time.time()\n",
    "\n",
    "produto = round(produto, 7)\n",
    "\n",
    "print('Resultado com o laço de repetição: {}'.format(produto))\n",
    "\n",
    "print('Tempo necessário: {:.7f}'.format(fim_laco - inicio_laco))\n",
    "\n",
    "print('')\n",
    "\n",
    "inicio_formula = time.time()\n",
    "\n",
    "formula = (((2*(n**2)) + (2*n)) / (2*n)**2)\n",
    "\n",
    "fim_formula = time.time()\n",
    "\n",
    "formula = round(formula, 7)\n",
    "\n",
    "print('Resultado com a fórfmula: {}'.format(formula))\n",
    "\n",
    "print('Tempo necessário: {:.7f}'.format(fim_formula - inicio_formula))\n",
    "\n",
    "if produto == formula:\n",
    "    print('O valor da expressão é verdadeiro para n igual a: {}'.format(n))\n",
    "\n",
    "else:\n",
    "    print('O valor da expressão é falso para n igual a {}'.format(n))"
   ]
  },
  {
   "cell_type": "code",
   "execution_count": null,
   "id": "edc956ad",
   "metadata": {},
   "outputs": [],
   "source": []
  },
  {
   "cell_type": "code",
   "execution_count": null,
   "id": "a8012717",
   "metadata": {},
   "outputs": [],
   "source": []
  }
 ],
 "metadata": {
  "kernelspec": {
   "display_name": "Python 3 (ipykernel)",
   "language": "python",
   "name": "python3"
  },
  "language_info": {
   "codemirror_mode": {
    "name": "ipython",
    "version": 3
   },
   "file_extension": ".py",
   "mimetype": "text/x-python",
   "name": "python",
   "nbconvert_exporter": "python",
   "pygments_lexer": "ipython3",
   "version": "3.9.12"
  }
 },
 "nbformat": 4,
 "nbformat_minor": 5
}
