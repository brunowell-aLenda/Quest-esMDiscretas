{
 "cells": [
  {
   "cell_type": "code",
   "execution_count": 1,
   "id": "da2a5d6e",
   "metadata": {},
   "outputs": [
    {
     "name": "stdout",
     "output_type": "stream",
     "text": [
      "Informe o número a: 1\n",
      "Informe o número b: 2\n",
      "Informe o número k: 3\n",
      "1 não é ≡ 2 mod(3)\n"
     ]
    }
   ],
   "source": [
    "a = int(input('Informe o número a: '))\n",
    "\n",
    "b = int(input('Informe o número b: '))\n",
    "\n",
    "k = int(input('Informe o número k: '))\n",
    "\n",
    "if (a - b) % k == 0:\n",
    "    print('{} é ≡ {} mod({})' .format(a, b, k))\n",
    "else:\n",
    "    print('{} não é ≡ {} mod({})' .format(a, b, k))\n",
    "# O símbolo '≡' significa congruente"
   ]
  },
  {
   "cell_type": "code",
   "execution_count": null,
   "id": "997c2d9b",
   "metadata": {},
   "outputs": [],
   "source": []
  }
 ],
 "metadata": {
  "kernelspec": {
   "display_name": "Python 3 (ipykernel)",
   "language": "python",
   "name": "python3"
  },
  "language_info": {
   "codemirror_mode": {
    "name": "ipython",
    "version": 3
   },
   "file_extension": ".py",
   "mimetype": "text/x-python",
   "name": "python",
   "nbconvert_exporter": "python",
   "pygments_lexer": "ipython3",
   "version": "3.9.12"
  }
 },
 "nbformat": 4,
 "nbformat_minor": 5
}
