{
 "cells": [
  {
   "cell_type": "code",
   "execution_count": 3,
   "id": "12d08023",
   "metadata": {},
   "outputs": [
    {
     "name": "stdout",
     "output_type": "stream",
     "text": [
      "Informe um valor: 11\n",
      "O número 11 é primo\n",
      "\n",
      "Números primos até o 11:\n",
      "[2, 3, 5, 7, 11]\n"
     ]
    }
   ],
   "source": [
    "def e_primo(numero):\n",
    "    primo = True if numero > 1 else False\n",
    "    \n",
    "    if not primo:\n",
    "        return False\n",
    "    for divisor in range(2, numero-1):\n",
    "        if numero % divisor == 0:\n",
    "            return False\n",
    "    return True\n",
    "\n",
    "valor = int(input('Informe um valor: '))\n",
    "if(e_primo(valor)):\n",
    "    print('O número {} é primo'.format(valor))\n",
    "else:\n",
    "    print('O número {} não é primo'.format(valor))\n",
    "\n",
    "print('')\n",
    "print('Números primos até o {}:'.format(valor))\n",
    "primos_ate_valor = []\n",
    "for numero in range(1, valor + 1):\n",
    "    if(e_primo(numero)):\n",
    "        primos_ate_valor.append(numero)\n",
    " \n",
    "if primos_ate_valor :\n",
    "    print(primos_ate_valor)\n",
    "else:\n",
    "    print('Nenhum')"
   ]
  },
  {
   "cell_type": "code",
   "execution_count": null,
   "id": "4dc99d3a",
   "metadata": {},
   "outputs": [],
   "source": []
  }
 ],
 "metadata": {
  "kernelspec": {
   "display_name": "Python 3 (ipykernel)",
   "language": "python",
   "name": "python3"
  },
  "language_info": {
   "codemirror_mode": {
    "name": "ipython",
    "version": 3
   },
   "file_extension": ".py",
   "mimetype": "text/x-python",
   "name": "python",
   "nbconvert_exporter": "python",
   "pygments_lexer": "ipython3",
   "version": "3.9.12"
  }
 },
 "nbformat": 4,
 "nbformat_minor": 5
}
