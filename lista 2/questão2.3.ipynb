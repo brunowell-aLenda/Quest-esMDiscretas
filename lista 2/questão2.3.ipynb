{
 "cells": [
  {
   "cell_type": "code",
   "execution_count": 1,
   "id": "5d0e7665",
   "metadata": {},
   "outputs": [
    {
     "name": "stdout",
     "output_type": "stream",
     "text": [
      "Informe um número P: 3\n",
      "Divisores: [1, 3]\n",
      "Quantidade de divisores: 2\n"
     ]
    }
   ],
   "source": [
    "valor = int(input('Informe um número P: '))\n",
    "\n",
    "divisores = []\n",
    "\n",
    "for numero in range (1, valor + 1):\n",
    "    if valor % numero == 0:\n",
    "        divisores.append(numero)\n",
    "        \n",
    "print ('Divisores: {}' .format(divisores))\n",
    "print ('Quantidade de divisores: {}' .format(len(divisores)))"
   ]
  },
  {
   "cell_type": "code",
   "execution_count": null,
   "id": "40aa238e",
   "metadata": {},
   "outputs": [],
   "source": []
  }
 ],
 "metadata": {
  "kernelspec": {
   "display_name": "Python 3 (ipykernel)",
   "language": "python",
   "name": "python3"
  },
  "language_info": {
   "codemirror_mode": {
    "name": "ipython",
    "version": 3
   },
   "file_extension": ".py",
   "mimetype": "text/x-python",
   "name": "python",
   "nbconvert_exporter": "python",
   "pygments_lexer": "ipython3",
   "version": "3.9.12"
  }
 },
 "nbformat": 4,
 "nbformat_minor": 5
}
