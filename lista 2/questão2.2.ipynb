{
 "cells": [
  {
   "cell_type": "code",
   "execution_count": 1,
   "id": "1ab093d8",
   "metadata": {},
   "outputs": [
    {
     "name": "stdout",
     "output_type": "stream",
     "text": [
      "Digite um numero inteiro: 3\n",
      "fator 3 multiplicidade=  1\n"
     ]
    }
   ],
   "source": [
    "n = int(input(\"Digite um numero inteiro: \"))\n",
    "\n",
    "fator = 2\n",
    "\n",
    "multiplicidade = 0\n",
    "\n",
    "while n > 1:\n",
    "    while n % fator == 0:\n",
    "        multiplicidade += 1\n",
    "        n = n/fator\n",
    "    if(multiplicidade > 0):\n",
    "        print(\"fator\", fator, \"multiplicidade= \",multiplicidade)\n",
    "    fator += 1\n",
    "    multiplicidade = 0"
   ]
  },
  {
   "cell_type": "code",
   "execution_count": null,
   "id": "fe136172",
   "metadata": {},
   "outputs": [],
   "source": []
  }
 ],
 "metadata": {
  "kernelspec": {
   "display_name": "Python 3 (ipykernel)",
   "language": "python",
   "name": "python3"
  },
  "language_info": {
   "codemirror_mode": {
    "name": "ipython",
    "version": 3
   },
   "file_extension": ".py",
   "mimetype": "text/x-python",
   "name": "python",
   "nbconvert_exporter": "python",
   "pygments_lexer": "ipython3",
   "version": "3.9.12"
  }
 },
 "nbformat": 4,
 "nbformat_minor": 5
}
